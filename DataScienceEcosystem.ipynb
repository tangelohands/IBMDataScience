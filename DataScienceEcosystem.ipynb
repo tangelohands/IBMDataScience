{
 "cells": [
  {
   "cell_type": "markdown",
   "id": "f56cdfc1",
   "metadata": {},
   "source": [
    "# Data Science Tools and Ecosystem"
   ]
  },
  {
   "cell_type": "markdown",
   "id": "e75e8ad6",
   "metadata": {},
   "source": [
    "In this notebook, we're going to summarize some data science tools and ecosystem-related stuff."
   ]
  },
  {
   "cell_type": "markdown",
   "id": "b3c9fee1",
   "metadata": {},
   "source": [
    "Some of the popular languages for use in data science are as-follows:\n",
    "\n",
    "1. Python\n",
    "2. R \n",
    "3. JavaScript\n"
   ]
  },
  {
   "cell_type": "markdown",
   "id": "c232bd5c",
   "metadata": {},
   "source": [
    "And here are some commonly used (Python) libraries in data science:\n",
    "\n",
    "1. Pandas \n",
    "2. NumPy \n",
    "3. PyTorch "
   ]
  },
  {
   "cell_type": "markdown",
   "id": "b8c61fe0",
   "metadata": {},
   "source": [
    "And here are a few open-source development-environment tools we can use in data science: \n",
    "\n",
    "1. R-Studio \n",
    "2. JupyterLab \n",
    "3. VSCode "
   ]
  },
  {
   "cell_type": "markdown",
   "id": "923f9237",
   "metadata": {},
   "source": [
    "### Here are some examples of arithmetic being evaluated in Python:"
   ]
  },
  {
   "cell_type": "code",
   "execution_count": 5,
   "id": "4d88317d",
   "metadata": {},
   "outputs": [
    {
     "data": {
      "text/plain": [
       "17"
      ]
     },
     "execution_count": 5,
     "metadata": {},
     "output_type": "execute_result"
    }
   ],
   "source": [
    "#Check out this cool arithmetic expression we can just evaluate here in this cell:\n",
    "(3*4)+5"
   ]
  },
  {
   "cell_type": "code",
   "execution_count": 14,
   "id": "62588cee",
   "metadata": {},
   "outputs": [
    {
     "name": "stdout",
     "output_type": "stream",
     "text": [
      "200 minutes is 3.3333333333333335 hours. Sick! \n"
     ]
    }
   ],
   "source": [
    "# this script converts 200 minutes to hours by dividing by 60.\n",
    "\n",
    "the_minutes = 200;\n",
    "convert = the_minutes/60;\n",
    "hours_output = (f\"{the_minutes} minutes is {convert} hours. Sick! \");\n",
    "print(hours_output);"
   ]
  },
  {
   "cell_type": "markdown",
   "id": "67ffc8f4",
   "metadata": {},
   "source": [
    " **Objectives:**\n",
    " \n",
    " - List some popular data science languages\n",
    " - List some popular data science tools\n",
    " - Demonstrate executing Python code in Jupyter notebook cells"
   ]
  },
  {
   "cell_type": "markdown",
   "id": "0e46d4d7",
   "metadata": {},
   "source": [
    "## Author\n",
    "T.A. Styles"
   ]
  },
  {
   "cell_type": "code",
   "execution_count": null,
   "id": "d709a077",
   "metadata": {},
   "outputs": [],
   "source": []
  }
 ],
 "metadata": {
  "kernelspec": {
   "display_name": "Python 3 (ipykernel)",
   "language": "python",
   "name": "python3"
  },
  "language_info": {
   "codemirror_mode": {
    "name": "ipython",
    "version": 3
   },
   "file_extension": ".py",
   "mimetype": "text/x-python",
   "name": "python",
   "nbconvert_exporter": "python",
   "pygments_lexer": "ipython3",
   "version": "3.11.5"
  }
 },
 "nbformat": 4,
 "nbformat_minor": 5
}
